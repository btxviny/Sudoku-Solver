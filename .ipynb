{
 "cells": [
  {
   "cell_type": "code",
   "execution_count": 1,
   "metadata": {},
   "outputs": [],
   "source": [
    "import numpy as np\n",
    "import xgboost as xgb\n",
    "from sklearn.model_selection import train_test_split\n",
    "from sklearn.metrics import accuracy_score, classification_report, confusion_matrix\n",
    "import seaborn as sns\n",
    "import matplotlib.pyplot as plt"
   ]
  },
  {
   "cell_type": "code",
   "execution_count": 3,
   "metadata": {},
   "outputs": [],
   "source": [
    "import pickle\n",
    "\n",
    "with open(\"digit_embeddings.pkl\", 'rb') as f:\n",
    "    data = pickle.load(f)\n",
    "filenames = []\n",
    "Y = []\n",
    "X = []\n",
    "for f,y,x in data:\n",
    "    filenames.append(f)\n",
    "    Y.append(y)\n",
    "    X.append(x)\n",
    "X = np.array(X)\n",
    "Y = np.array(Y)"
   ]
  },
  {
   "cell_type": "code",
   "execution_count": 5,
   "metadata": {},
   "outputs": [
    {
     "data": {
      "text/plain": [
       "0"
      ]
     },
     "execution_count": 5,
     "metadata": {},
     "output_type": "execute_result"
    }
   ],
   "source": [
    "Y.min()"
   ]
  },
  {
   "cell_type": "code",
   "execution_count": 32,
   "metadata": {},
   "outputs": [
    {
     "name": "stdout",
     "output_type": "stream",
     "text": [
      "Train size: 42000, Eval size: 9000, Test size: 9000\n"
     ]
    },
    {
     "name": "stderr",
     "output_type": "stream",
     "text": [
      "c:\\Users\\VINY\\miniconda3\\envs\\vision\\lib\\site-packages\\xgboost\\core.py:158: UserWarning: [10:23:05] WARNING: C:\\buildkite-agent\\builds\\buildkite-windows-cpu-autoscaling-group-i-08cbc0333d8d4aae1-1\\xgboost\\xgboost-ci-windows\\src\\learner.cc:740: \n",
      "Parameters: { \"use_label_encoder\" } are not used.\n",
      "\n",
      "  warnings.warn(smsg, UserWarning)\n"
     ]
    },
    {
     "name": "stdout",
     "output_type": "stream",
     "text": [
      "[0]\tvalidation_0-mlogloss:1.15885\n",
      "[1]\tvalidation_0-mlogloss:0.83008\n",
      "[2]\tvalidation_0-mlogloss:0.62371\n",
      "[3]\tvalidation_0-mlogloss:0.48221\n",
      "[4]\tvalidation_0-mlogloss:0.37887\n",
      "[5]\tvalidation_0-mlogloss:0.30160\n",
      "[6]\tvalidation_0-mlogloss:0.24333\n",
      "[7]\tvalidation_0-mlogloss:0.19918\n",
      "[8]\tvalidation_0-mlogloss:0.16514\n",
      "[9]\tvalidation_0-mlogloss:0.13809\n",
      "[10]\tvalidation_0-mlogloss:0.11735\n",
      "[11]\tvalidation_0-mlogloss:0.10067\n",
      "[12]\tvalidation_0-mlogloss:0.08676\n",
      "[13]\tvalidation_0-mlogloss:0.07591\n",
      "[14]\tvalidation_0-mlogloss:0.06717\n",
      "[15]\tvalidation_0-mlogloss:0.05976\n",
      "[16]\tvalidation_0-mlogloss:0.05327\n",
      "[17]\tvalidation_0-mlogloss:0.04813\n",
      "[18]\tvalidation_0-mlogloss:0.04364\n",
      "[19]\tvalidation_0-mlogloss:0.04031\n",
      "[20]\tvalidation_0-mlogloss:0.03696\n",
      "[21]\tvalidation_0-mlogloss:0.03414\n",
      "[22]\tvalidation_0-mlogloss:0.03181\n",
      "[23]\tvalidation_0-mlogloss:0.02971\n",
      "[24]\tvalidation_0-mlogloss:0.02796\n",
      "[25]\tvalidation_0-mlogloss:0.02659\n",
      "[26]\tvalidation_0-mlogloss:0.02533\n",
      "[27]\tvalidation_0-mlogloss:0.02415\n",
      "[28]\tvalidation_0-mlogloss:0.02303\n",
      "[29]\tvalidation_0-mlogloss:0.02211\n",
      "[30]\tvalidation_0-mlogloss:0.02146\n",
      "[31]\tvalidation_0-mlogloss:0.02078\n",
      "[32]\tvalidation_0-mlogloss:0.02015\n",
      "[33]\tvalidation_0-mlogloss:0.01961\n",
      "[34]\tvalidation_0-mlogloss:0.01913\n",
      "[35]\tvalidation_0-mlogloss:0.01858\n",
      "[36]\tvalidation_0-mlogloss:0.01809\n",
      "[37]\tvalidation_0-mlogloss:0.01769\n",
      "[38]\tvalidation_0-mlogloss:0.01740\n",
      "[39]\tvalidation_0-mlogloss:0.01702\n",
      "[40]\tvalidation_0-mlogloss:0.01677\n",
      "[41]\tvalidation_0-mlogloss:0.01647\n",
      "[42]\tvalidation_0-mlogloss:0.01615\n",
      "[43]\tvalidation_0-mlogloss:0.01587\n",
      "[44]\tvalidation_0-mlogloss:0.01562\n",
      "[45]\tvalidation_0-mlogloss:0.01541\n",
      "[46]\tvalidation_0-mlogloss:0.01515\n",
      "[47]\tvalidation_0-mlogloss:0.01511\n",
      "[48]\tvalidation_0-mlogloss:0.01493\n",
      "[49]\tvalidation_0-mlogloss:0.01479\n",
      "[50]\tvalidation_0-mlogloss:0.01458\n",
      "[51]\tvalidation_0-mlogloss:0.01446\n",
      "[52]\tvalidation_0-mlogloss:0.01436\n",
      "[53]\tvalidation_0-mlogloss:0.01428\n",
      "[54]\tvalidation_0-mlogloss:0.01408\n",
      "[55]\tvalidation_0-mlogloss:0.01394\n",
      "[56]\tvalidation_0-mlogloss:0.01389\n",
      "[57]\tvalidation_0-mlogloss:0.01380\n",
      "[58]\tvalidation_0-mlogloss:0.01372\n",
      "[59]\tvalidation_0-mlogloss:0.01364\n",
      "[60]\tvalidation_0-mlogloss:0.01357\n",
      "[61]\tvalidation_0-mlogloss:0.01355\n",
      "[62]\tvalidation_0-mlogloss:0.01344\n",
      "[63]\tvalidation_0-mlogloss:0.01338\n",
      "[64]\tvalidation_0-mlogloss:0.01335\n",
      "[65]\tvalidation_0-mlogloss:0.01324\n",
      "[66]\tvalidation_0-mlogloss:0.01317\n",
      "[67]\tvalidation_0-mlogloss:0.01311\n",
      "[68]\tvalidation_0-mlogloss:0.01304\n",
      "[69]\tvalidation_0-mlogloss:0.01302\n",
      "[70]\tvalidation_0-mlogloss:0.01299\n",
      "[71]\tvalidation_0-mlogloss:0.01292\n",
      "[72]\tvalidation_0-mlogloss:0.01286\n",
      "[73]\tvalidation_0-mlogloss:0.01280\n",
      "[74]\tvalidation_0-mlogloss:0.01270\n",
      "[75]\tvalidation_0-mlogloss:0.01263\n",
      "[76]\tvalidation_0-mlogloss:0.01260\n",
      "[77]\tvalidation_0-mlogloss:0.01255\n",
      "[78]\tvalidation_0-mlogloss:0.01255\n",
      "[79]\tvalidation_0-mlogloss:0.01246\n",
      "[80]\tvalidation_0-mlogloss:0.01239\n",
      "[81]\tvalidation_0-mlogloss:0.01239\n",
      "[82]\tvalidation_0-mlogloss:0.01235\n",
      "[83]\tvalidation_0-mlogloss:0.01229\n",
      "[84]\tvalidation_0-mlogloss:0.01231\n",
      "[85]\tvalidation_0-mlogloss:0.01227\n",
      "[86]\tvalidation_0-mlogloss:0.01224\n",
      "[87]\tvalidation_0-mlogloss:0.01222\n",
      "[88]\tvalidation_0-mlogloss:0.01219\n",
      "[89]\tvalidation_0-mlogloss:0.01212\n",
      "[90]\tvalidation_0-mlogloss:0.01213\n",
      "[91]\tvalidation_0-mlogloss:0.01208\n",
      "[92]\tvalidation_0-mlogloss:0.01206\n",
      "[93]\tvalidation_0-mlogloss:0.01207\n",
      "[94]\tvalidation_0-mlogloss:0.01205\n",
      "[95]\tvalidation_0-mlogloss:0.01203\n",
      "[96]\tvalidation_0-mlogloss:0.01199\n",
      "[97]\tvalidation_0-mlogloss:0.01197\n",
      "[98]\tvalidation_0-mlogloss:0.01196\n",
      "[99]\tvalidation_0-mlogloss:0.01195\n",
      "Test Accuracy: 0.9966\n",
      "\n",
      "Classification Report:\n",
      "              precision    recall  f1-score   support\n",
      "\n",
      "           0     0.9989    1.0000    0.9995       919\n",
      "           1     1.0000    1.0000    1.0000       887\n",
      "           2     0.9978    0.9933    0.9955       893\n",
      "           3     0.9889    0.9911    0.9900       899\n",
      "           4     1.0000    1.0000    1.0000       891\n",
      "           5     0.9956    0.9944    0.9950       900\n",
      "           6     0.9978    0.9923    0.9950       911\n",
      "           7     0.9989    1.0000    0.9994       902\n",
      "           8     0.9923    0.9945    0.9934       912\n",
      "           9     0.9955    1.0000    0.9977       886\n",
      "\n",
      "    accuracy                         0.9966      9000\n",
      "   macro avg     0.9966    0.9966    0.9966      9000\n",
      "weighted avg     0.9966    0.9966    0.9966      9000\n",
      "\n"
     ]
    },
    {
     "data": {
      "image/png": "[encoded data removed]",
      "text/plain": [
       "<Figure size 800x600 with 2 Axes>"
      ]
     },
     "metadata": {},
     "output_type": "display_data"
    },
    {
     "name": "stdout",
     "output_type": "stream",
     "text": [
      "Model saved as xgboost_digit_classifier.model\n"
     ]
    },
    {
     "name": "stderr",
     "output_type": "stream",
     "text": [
      "c:\\Users\\VINY\\miniconda3\\envs\\vision\\lib\\site-packages\\xgboost\\core.py:158: UserWarning: [10:23:28] WARNING: C:\\buildkite-agent\\builds\\buildkite-windows-cpu-autoscaling-group-i-08cbc0333d8d4aae1-1\\xgboost\\xgboost-ci-windows\\src\\c_api\\c_api.cc:1374: Saving model in the UBJSON format as default.  You can use file extension: `json`, `ubj` or `deprecated` to choose between formats.\n",
      "  warnings.warn(smsg, UserWarning)\n"
     ]
    }
   ],
   "source": [
    "# Split Data (Train: 70%, Eval: 15%, Test: 15%)\n",
    "X_train, X_temp, y_train, y_temp = train_test_split(X, Y, test_size=0.3, random_state=42, stratify=Y)\n",
    "X_eval, X_test, y_eval, y_test = train_test_split(X_temp, y_temp, test_size=0.5, random_state=42, stratify=y_temp)\n",
    "\n",
    "print(f\"Train size: {len(X_train)}, Eval size: {len(X_eval)}, Test size: {len(X_test)}\")\n",
    "\n",
    "# Train XGBoost Classifier with GPU\n",
    "model = xgb.XGBClassifier(\n",
    "    objective='multi:softmax',\n",
    "    num_class=10,\n",
    "    eval_metric='mlogloss',\n",
    "    use_label_encoder=False,\n",
    "    tree_method=\"hist\",  # Faster histogram-based method\n",
    "    device=\"cuda\"  # Use GPU\n",
    ")\n",
    "\n",
    "model.fit(X_train, y_train, eval_set=[(X_eval, y_eval)], verbose=True)\n",
    "\n",
    "# Predictions\n",
    "y_pred = model.predict(X_test)\n",
    "\n",
    "# Evaluation Metrics\n",
    "accuracy = accuracy_score(y_test, y_pred)\n",
    "print(f\"Test Accuracy: {accuracy:.4f}\")\n",
    "\n",
    "print(\"\\nClassification Report:\")\n",
    "print(classification_report(y_test, y_pred, digits=4))\n",
    "\n",
    "# Confusion Matrix\n",
    "cm = confusion_matrix(y_test, y_pred)\n",
    "plt.figure(figsize=(8, 6))\n",
    "sns.heatmap(cm, annot=True, fmt='d', cmap='Blues', xticklabels=range(1, 10), yticklabels=range(1, 10))\n",
    "plt.xlabel(\"Predicted\")\n",
    "plt.ylabel(\"Actual\")\n",
    "plt.title(\"Confusion Matrix\")\n",
    "plt.show()\n",
    "\n",
    "# Save the trained model\n",
    "model.save_model(\"xgboost_digit_classifier.model\")\n",
    "print(\"Model saved as xgboost_digit_classifier.model\")"
   ]
  },
  {
   "cell_type": "code",
   "execution_count": 28,
   "metadata": {},
   "outputs": [],
   "source": [
    "from time import time\n",
    "import cv2\n",
    "import torch\n",
    "import torch.nn as nn\n",
    "from torchvision import models, transforms\n",
    "import xgboost as xgb\n",
    "import matplotlib.pyplot as plt\n",
    "from loguru import logger\n",
    "\n",
    "transform = transforms.Compose([\n",
    "    transforms.ToPILImage(),\n",
    "    transforms.Resize((28, 28)),  # ResNet18 expects 224x224 images\n",
    "    transforms.ToTensor(),\n",
    "    transforms.Normalize(mean=[0.485, 0.456, 0.406], std=[0.229, 0.224, 0.225])\n",
    "])\n",
    "\n",
    "\n",
    "# Load the pretrained ResNet18 model (as feature extractor)\n",
    "device = torch.device(\"cuda\" if torch.cuda.is_available() else \"cpu\")\n",
    "resnet = models.resnet18(weights='IMAGENET1K_V1')\n",
    "resnet = nn.Sequential(*list(resnet.children())[:-1])  # Remove final classification layer\n",
    "resnet.to(device)\n",
    "resnet.eval()\n",
    "\n",
    "# Load the trained XGBoost classifier\n",
    "model = xgb.XGBClassifier()\n",
    "model.load_model(\"xgboost_digit_classifier.model\")\n",
    "\n",
    "def classify_digit(image):\n",
    "    # Step 2: Apply transformations\n",
    "    transformed_image = transform(image)\n",
    "    transformed_image = transformed_image.unsqueeze(0).to(device)  # Add batch dimension and move to GPU if available\n",
    "\n",
    "    # Step 3: Extract features using ResNet18\n",
    "    with torch.no_grad():\n",
    "        features = resnet(transformed_image)  # Output shape: [batch, 512, 1, 1]\n",
    "        features = features.view(features.size(0), -1).cpu().numpy()  # Flatten and move to CPU\n",
    "\n",
    "    # Step 4: Classify the extracted features using the XGBoost model\n",
    "    probs = model.predict_proba(features)  # Get class probabilities\n",
    "    predicted_class = np.argmax(probs, axis=1)  # Get the class with highest probability\n",
    "    confidence = np.max(probs, axis=1) \n",
    "    return predicted_class, confidence, probs"
   ]
  },
  {
   "cell_type": "code",
   "execution_count": 62,
   "metadata": {},
   "outputs": [
    {
     "name": "stdout",
     "output_type": "stream",
     "text": [
      "prediction: [0] confidence: [0.9999652]\n"
     ]
    },
    {
     "data": {
      "image/png": "[encoded data removed]",
      "text/plain": [
       "<Figure size 640x480 with 1 Axes>"
      ]
     },
     "metadata": {},
     "output_type": "display_data"
    }
   ],
   "source": [
    "from create_dataset import generate_digit_image, generate_empty_image\n",
    "import random\n",
    "import numpy as np\n",
    "import matplotlib.pyplot as plt\n",
    "if random.randint(1,10)==1:\n",
    "    image = generate_empty_image()\n",
    "else:\n",
    "    image = generate_digit_image(random.randint(1,9))\n",
    "image = np.repeat(image[:, :, np.newaxis], 3, axis=2)\n",
    "plt.imshow(image,cmap='gray')\n",
    "\n",
    "\n",
    "prediction, confidence, _ = classify_digit(image)\n",
    "print(f'prediction: {prediction} confidence: {confidence}')"
   ]
  },
  {
   "cell_type": "code",
   "execution_count": null,
   "metadata": {},
   "outputs": [],
   "source": []
  }
 ],
 "metadata": {
  "kernelspec": {
   "display_name": "vision",
   "language": "python",
   "name": "python3"
  },
  "language_info": {
   "codemirror_mode": {
    "name": "ipython",
    "version": 3
   },
   "file_extension": ".py",
   "mimetype": "text/x-python",
   "name": "python",
   "nbconvert_exporter": "python",
   "pygments_lexer": "ipython3",
   "version": "3.9.18"
  }
 },
 "nbformat": 4,
 "nbformat_minor": 2
}
