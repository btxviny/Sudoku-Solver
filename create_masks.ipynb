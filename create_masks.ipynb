{
 "cells": [
  {
   "cell_type": "code",
   "execution_count": 1,
   "metadata": {},
   "outputs": [],
   "source": [
    "import cv2\n",
    "import pickle\n",
    "import glob\n",
    "import numpy as np\n",
    "import os\n",
    "import matplotlib.pyplot as plt"
   ]
  },
  {
   "cell_type": "code",
   "execution_count": 2,
   "metadata": {},
   "outputs": [],
   "source": [
    "images_iterator = glob.glob('./data/images/*.jpg')\n",
    "vertices_iterator = glob.glob('./data/vertices/*.npy')"
   ]
  },
  {
   "cell_type": "code",
   "execution_count": 3,
   "metadata": {},
   "outputs": [
    {
     "data": {
      "text/plain": [
       "\"for idx,(img,vertex) in enumerate(zip(images_iterator,vertices_iterator)):\\n    os.rename(img, './data/images/'+str(idx)+'.jpg')\\n    os.rename(vertex, './data/vertices/'+str(idx)+'.npy')\""
      ]
     },
     "execution_count": 3,
     "metadata": {},
     "output_type": "execute_result"
    }
   ],
   "source": [
    "'''for idx,(img,vertex) in enumerate(zip(images_iterator,vertices_iterator)):\n",
    "    os.rename(img, './data/images/'+str(idx)+'.jpg')\n",
    "    os.rename(vertex, './data/vertices/'+str(idx)+'.npy')'''"
   ]
  },
  {
   "cell_type": "code",
   "execution_count": 4,
   "metadata": {},
   "outputs": [
    {
     "data": {
      "text/plain": [
       "'img1 = next(iter(images_iterator))\\nvertices1 = next(iter(vertices_iterator))'"
      ]
     },
     "execution_count": 4,
     "metadata": {},
     "output_type": "execute_result"
    }
   ],
   "source": [
    "'''img1 = next(iter(images_iterator))\n",
    "vertices1 = next(iter(vertices_iterator))'''"
   ]
  },
  {
   "cell_type": "code",
   "execution_count": 5,
   "metadata": {},
   "outputs": [
    {
     "data": {
      "text/plain": [
       "'img = cv2.imread(img1)\\nplt.imshow(img)'"
      ]
     },
     "execution_count": 5,
     "metadata": {},
     "output_type": "execute_result"
    }
   ],
   "source": [
    "'''img = cv2.imread(img1)\n",
    "plt.imshow(img)'''"
   ]
  },
  {
   "cell_type": "code",
   "execution_count": 6,
   "metadata": {},
   "outputs": [
    {
     "data": {
      "text/plain": [
       "'drawn = img.copy()\\nvertices = np.load(vertices1)\\ncv2.fillPoly(drawn, [vertices], (0, 255, 0))\\nplt.imshow(drawn)'"
      ]
     },
     "execution_count": 6,
     "metadata": {},
     "output_type": "execute_result"
    }
   ],
   "source": [
    "'''drawn = img.copy()\n",
    "vertices = np.load(vertices1)\n",
    "cv2.fillPoly(drawn, [vertices], (0, 255, 0))\n",
    "plt.imshow(drawn)'''"
   ]
  },
  {
   "cell_type": "code",
   "execution_count": 2,
   "metadata": {},
   "outputs": [],
   "source": [
    "images_iterator = glob.glob('./data/original/images/*.jpg')\n",
    "vertices_iterator = glob.glob('./data/original/vertices/*.npy')"
   ]
  },
  {
   "cell_type": "code",
   "execution_count": null,
   "metadata": {},
   "outputs": [
    {
     "ename": "KeyboardInterrupt",
     "evalue": "",
     "output_type": "error",
     "traceback": [
      "\u001b[1;31m---------------------------------------------------------------------------\u001b[0m",
      "\u001b[1;31mKeyboardInterrupt\u001b[0m                         Traceback (most recent call last)",
      "Cell \u001b[1;32mIn[5], line 10\u001b[0m\n\u001b[0;32m      8\u001b[0m drawn \u001b[38;5;241m=\u001b[39m img\u001b[38;5;241m.\u001b[39mcopy()\n\u001b[0;32m      9\u001b[0m cv2\u001b[38;5;241m.\u001b[39mfillPoly(drawn, [vertex], (\u001b[38;5;241m0\u001b[39m, \u001b[38;5;241m255\u001b[39m, \u001b[38;5;241m0\u001b[39m))\n\u001b[1;32m---> 10\u001b[0m result \u001b[38;5;241m=\u001b[39m \u001b[43mcv2\u001b[49m\u001b[38;5;241;43m.\u001b[39;49m\u001b[43mhconcat\u001b[49m\u001b[43m(\u001b[49m\u001b[43m[\u001b[49m\u001b[43mimg\u001b[49m\u001b[43m,\u001b[49m\u001b[43mdrawn\u001b[49m\u001b[43m]\u001b[49m\u001b[43m)\u001b[49m\n\u001b[0;32m     11\u001b[0m cv2\u001b[38;5;241m.\u001b[39mimwrite(\u001b[38;5;124m'\u001b[39m\u001b[38;5;124m./data/masks/\u001b[39m\u001b[38;5;124m'\u001b[39m\u001b[38;5;241m+\u001b[39m\u001b[38;5;28mstr\u001b[39m(idx)\u001b[38;5;241m+\u001b[39m\u001b[38;5;124m'\u001b[39m\u001b[38;5;124m.png\u001b[39m\u001b[38;5;124m'\u001b[39m,mask)\n\u001b[0;32m     12\u001b[0m cv2\u001b[38;5;241m.\u001b[39mimwrite(\u001b[38;5;124m'\u001b[39m\u001b[38;5;124m./data/drawn/\u001b[39m\u001b[38;5;124m'\u001b[39m\u001b[38;5;241m+\u001b[39m\u001b[38;5;28mstr\u001b[39m(idx)\u001b[38;5;241m+\u001b[39m\u001b[38;5;124m'\u001b[39m\u001b[38;5;124m.jpg\u001b[39m\u001b[38;5;124m'\u001b[39m,result)\n",
      "\u001b[1;31mKeyboardInterrupt\u001b[0m: "
     ]
    }
   ],
   "source": [
    "os.makedirs('./data/original/masks', exist_ok=True)\n",
    "for idx,(img,vertex) in enumerate(zip(images_iterator,vertices_iterator)):\n",
    "    img = cv2.imread(img)\n",
    "    h,w,_ = img.shape\n",
    "    mask = np.zeros((h,w),dtype=np.float32)\n",
    "    vertex = np.load(vertex)\n",
    "    cv2.fillPoly(mask, [vertex], 1)\n",
    "    drawn = img.copy()\n",
    "    cv2.fillPoly(drawn, [vertex], (0, 255, 0))\n",
    "    result = cv2.hconcat([img,drawn])\n",
    "    cv2.imwrite('./data/original/masks/'+str(idx)+'.png',mask)"
   ]
  },
  {
   "cell_type": "markdown",
   "metadata": {},
   "source": [
    "### Convert masks to .PNG"
   ]
  },
  {
   "cell_type": "code",
   "execution_count": null,
   "metadata": {},
   "outputs": [],
   "source": [
    "masks_iterator = glob.glob('./data/mask_dataset/masks/*.jpg')\n",
    "for mask_path in masks_iterator:\n",
    "    os.rename"
   ]
  }
 ],
 "metadata": {
  "kernelspec": {
   "display_name": "venv",
   "language": "python",
   "name": "python3"
  },
  "language_info": {
   "codemirror_mode": {
    "name": "ipython",
    "version": 3
   },
   "file_extension": ".py",
   "mimetype": "text/x-python",
   "name": "python",
   "nbconvert_exporter": "python",
   "pygments_lexer": "ipython3",
   "version": "3.11.0"
  }
 },
 "nbformat": 4,
 "nbformat_minor": 2
}
