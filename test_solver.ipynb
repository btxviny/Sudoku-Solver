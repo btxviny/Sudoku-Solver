{
 "cells": [
  {
   "cell_type": "code",
   "execution_count": 1,
   "metadata": {},
   "outputs": [],
   "source": [
    "import numpy as np\n",
    "from generate_random_board import generate_sudoku, is_valid\n",
    "from solve_puzzle import solve_with_cp"
   ]
  },
  {
   "cell_type": "code",
   "execution_count": 17,
   "metadata": {},
   "outputs": [
    {
     "data": {
      "text/plain": [
       "array([[4, 8, 1, 6, 9, 5, 7, 3, 2],\n",
       "       [2, 7, 3, 4, 1, 8, 9, 6, 5],\n",
       "       [9, 5, 6, 2, 7, 3, 8, 1, 4],\n",
       "       [1, 2, 8, 7, 4, 6, 5, 9, 3],\n",
       "       [7, 9, 4, 5, 3, 2, 6, 8, 1],\n",
       "       [6, 3, 5, 9, 8, 1, 2, 4, 7],\n",
       "       [8, 1, 7, 3, 5, 9, 4, 2, 6],\n",
       "       [3, 4, 2, 8, 6, 7, 1, 5, 9],\n",
       "       [5, 6, 9, 1, 2, 4, 3, 7, 8]])"
      ]
     },
     "execution_count": 17,
     "metadata": {},
     "output_type": "execute_result"
    }
   ],
   "source": [
    "board = generate_sudoku()\n",
    "board"
   ]
  },
  {
   "cell_type": "code",
   "execution_count": null,
   "metadata": {},
   "outputs": [],
   "source": []
  },
  {
   "cell_type": "markdown",
   "metadata": {},
   "source": [
    "## Randomly remove 15 elements"
   ]
  },
  {
   "cell_type": "code",
   "execution_count": 18,
   "metadata": {},
   "outputs": [],
   "source": [
    "import random"
   ]
  },
  {
   "cell_type": "code",
   "execution_count": 19,
   "metadata": {},
   "outputs": [],
   "source": [
    "iterated = set()\n",
    "num_removed = 0\n",
    "while num_removed < 15:\n",
    "    i = random.randint(0,8)\n",
    "    j =  random.randint(0,8)\n",
    "    if (i,j) not in iterated:\n",
    "        board[i,j] = 0\n",
    "        num_removed += 1"
   ]
  },
  {
   "cell_type": "code",
   "execution_count": 13,
   "metadata": {},
   "outputs": [],
   "source": [
    "board = np.array(\n",
    "    [[5, 4, 9, 0, 0, 1, 7, 3, 8],\n",
    "     [3, 6, 7, 0, 0, 8, 0, 0, 1],\n",
    "     [2, 0, 0, 0, 7, 3, 0, 4, 0],\n",
    "     [0, 0, 0, 9, 0, 0, 0, 0, 5],\n",
    "     [0, 0, 0, 7, 0, 5, 4, 6, 0],\n",
    "     [1, 3, 5, 8, 4, 0, 0, 7, 0],\n",
    "     [0, 0, 4, 0, 0, 0, 3, 0, 7],\n",
    "     [7, 8, 0, 3, 5, 0, 0, 0, 6],\n",
    "     [0, 2, 3, 0, 8, 0, 0, 0, 0]],\n",
    "    dtype=np.uint8\n",
    ")"
   ]
  },
  {
   "cell_type": "code",
   "execution_count": 14,
   "metadata": {},
   "outputs": [
    {
     "data": {
      "text/plain": [
       "array([[5, 4, 9, 0, 0, 1, 7, 3, 8],\n",
       "       [3, 6, 7, 0, 0, 8, 0, 0, 1],\n",
       "       [2, 0, 0, 0, 7, 3, 0, 4, 0],\n",
       "       [0, 0, 0, 9, 0, 0, 0, 0, 5],\n",
       "       [0, 0, 0, 7, 0, 5, 4, 6, 0],\n",
       "       [1, 3, 5, 8, 4, 0, 0, 7, 0],\n",
       "       [0, 0, 4, 0, 0, 0, 3, 0, 7],\n",
       "       [7, 8, 0, 3, 5, 0, 0, 0, 6],\n",
       "       [0, 2, 3, 0, 8, 0, 0, 0, 0]], dtype=uint8)"
      ]
     },
     "execution_count": 14,
     "metadata": {},
     "output_type": "execute_result"
    }
   ],
   "source": [
    "board"
   ]
  },
  {
   "cell_type": "code",
   "execution_count": 20,
   "metadata": {},
   "outputs": [],
   "source": [
    "solved_puzzle, _  = solve_with_cp(board)"
   ]
  },
  {
   "cell_type": "code",
   "execution_count": 21,
   "metadata": {},
   "outputs": [
    {
     "data": {
      "text/plain": [
       "array([[4, 8, 1, 6, 9, 5, 7, 3, 2],\n",
       "       [2, 7, 3, 4, 1, 8, 9, 6, 5],\n",
       "       [9, 5, 6, 2, 7, 3, 8, 1, 4],\n",
       "       [1, 2, 8, 7, 4, 6, 5, 9, 3],\n",
       "       [7, 9, 4, 5, 3, 2, 6, 8, 1],\n",
       "       [6, 3, 5, 9, 8, 1, 2, 4, 7],\n",
       "       [8, 1, 7, 3, 5, 9, 4, 2, 6],\n",
       "       [3, 4, 2, 8, 6, 7, 1, 5, 9],\n",
       "       [5, 6, 9, 1, 2, 4, 3, 7, 8]], dtype=uint8)"
      ]
     },
     "execution_count": 21,
     "metadata": {},
     "output_type": "execute_result"
    }
   ],
   "source": [
    "solved_puzzle"
   ]
  },
  {
   "cell_type": "code",
   "execution_count": null,
   "metadata": {},
   "outputs": [],
   "source": []
  }
 ],
 "metadata": {
  "kernelspec": {
   "display_name": "cpo",
   "language": "python",
   "name": "python3"
  },
  "language_info": {
   "codemirror_mode": {
    "name": "ipython",
    "version": 3
   },
   "file_extension": ".py",
   "mimetype": "text/x-python",
   "name": "python",
   "nbconvert_exporter": "python",
   "pygments_lexer": "ipython3",
   "version": "3.11.11"
  }
 },
 "nbformat": 4,
 "nbformat_minor": 2
}
